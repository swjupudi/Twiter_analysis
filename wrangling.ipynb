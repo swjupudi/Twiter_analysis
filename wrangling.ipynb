{
 "cells": [
  {
   "attachments": {},
   "cell_type": "markdown",
   "metadata": {},
   "source": [
    "Importing Libraries"
   ]
  },
  {
   "cell_type": "code",
   "execution_count": null,
   "metadata": {},
   "outputs": [],
   "source": [
    "%matplotlib inline\n",
    "import glob\n",
    "\n",
    "import matplotlib.pyplot as plt \n",
    "import pandas as pd\n",
    "from scipy.cluster import hierarchy\n",
    "import seaborn as sns\n",
    "from sklearn import cluster,preprocessing\n"
   ]
  },
  {
   "cell_type": "code",
   "execution_count": null,
   "metadata": {},
   "outputs": [],
   "source": [
    "df = pd.read_csv('tweet_activity_metrics___mharrison___20201101_20201201_en.csv')"
   ]
  },
  {
   "cell_type": "code",
   "execution_count": null,
   "metadata": {},
   "outputs": [],
   "source": [
    "df.head()"
   ]
  },
  {
   "cell_type": "code",
   "execution_count": null,
   "metadata": {},
   "outputs": [],
   "source": [
    "df.shape"
   ]
  },
  {
   "cell_type": "code",
   "execution_count": null,
   "metadata": {},
   "outputs": [],
   "source": [
    "df.info()"
   ]
  },
  {
   "cell_type": "code",
   "execution_count": null,
   "metadata": {},
   "outputs": [],
   "source": [
    "#convert time to datetime\n",
    "df['time'] = pd.to_datetime(df['time'])"
   ]
  },
  {
   "cell_type": "code",
   "execution_count": null,
   "metadata": {},
   "outputs": [],
   "source": [
    "#convert - to NaN\n",
    "df = df.replace('-', pd.np.nan)"
   ]
  },
  {
   "cell_type": "code",
   "execution_count": null,
   "metadata": {},
   "outputs": [],
   "source": [
    "df.head()"
   ]
  },
  {
   "cell_type": "code",
   "execution_count": null,
   "metadata": {},
   "outputs": [],
   "source": [
    "df.info()"
   ]
  },
  {
   "attachments": {},
   "cell_type": "markdown",
   "metadata": {},
   "source": [
    "### `Data Cleaning`"
   ]
  },
  {
   "cell_type": "code",
   "execution_count": null,
   "metadata": {},
   "outputs": [],
   "source": [
    "# create a function called sanitize that takes in a dataframe and returns a modified dataframe\n",
    "def sanitize(df):\n",
    "    return (\n",
    "        df\n",
    "        # Drop columns with all NaN values\n",
    "        .dropna(axis=1, how=\"all\")\n",
    "        # Drop columns with all 0 or 0.0 values\n",
    "        .drop(df.columns[df.apply(lambda col: col == 0.0).all()], axis=1)\n",
    "        # Replace space in col names with underscore\n",
    "        .rename(columns=lambda x: x.replace(\" \", \"_\"))\n",
    "    )"
   ]
  },
  {
   "cell_type": "code",
   "execution_count": null,
   "metadata": {},
   "outputs": [],
   "source": [
    "#Create a function called tweet_analysis that takes in a dataframe and returns a modified dataframe with new columns regarding tweet stats\n",
    "def tweet_analysis(df):\n",
    "    return df.assign(\n",
    "        is_reply=df[\"Tweet_text\"].str.startswith(\"@\"),\n",
    "        # Create new column to identify if the tweet was a quote\n",
    "        is_quote=df[\"Tweet_text\"].str.startswith('\"'),\n",
    "        # Create a new column char_length containing the length of the tweet\n",
    "        length=df[\"Tweet_text\"].str.len(),\n",
    "        # Create a new column word_length containing the number of words in the tweet\n",
    "        word_length=df[\"Tweet_text\"].str.split().apply(len),\n",
    "        # Create a new column to check if emojis were used in the tweet\n",
    "        has_emoji=df[\"Tweet_text\"].str.contains(r\"[\\U0001F600-\\U0001F64F]\"),\n",
    "        # Create a new column containing the number of hashtags in the tweet\n",
    "        hashtag_count=df[\"Tweet_text\"].str.count(\"#\"),\n",
    "        # Create a new column containing the month of the tweet\n",
    "        month=df[\"time\"].dt.month,\n",
    "        # Create a new column containing the day of the week of the tweet\n",
    "        day_of_week=df[\"time\"].dt.dayofweek,\n",
    "        # Create a new column containing the hour of the tweet\n",
    "        hour=df[\"time\"].dt.hour,\n",
    "        #Create a new column to check if any mentions were used in the tweet\n",
    "        has_mentions=df[\"Tweet_text\"].str.contains(\"@\"),\n",
    "        #Create a new column to check if any links were used in the tweet\n",
    "        has_links=df[\"Tweet_text\"].str.contains(\"http\"),\n",
    "        #Create a new column to check if any media was used in the tweet\n",
    "        has_media=df[\"Tweet_text\"].str.contains(\"pic.twitter.com\"),\n",
    "        #Create a new column and check if new lines were used in the tweet\n",
    "        has_new_line=df[\"Tweet_text\"].str.contains(\"\\n\"),\n",
    "        #Create a new column and check number of new lines used in the tweet\n",
    "        new_line_count=df[\"Tweet_text\"].str.count(\"\\n\"),\n",
    "        #Create a new column and count number of mentions used in the tweet\n",
    "        mention_count=df[\"Tweet_text\"].str.count(\"@\"),\n",
    "        \n",
    "    )"
   ]
  },
  {
   "cell_type": "code",
   "execution_count": null,
   "metadata": {},
   "outputs": [],
   "source": [
    "df.columns"
   ]
  },
  {
   "cell_type": "code",
   "execution_count": null,
   "metadata": {},
   "outputs": [],
   "source": [
    "df.shape"
   ]
  },
  {
   "cell_type": "code",
   "execution_count": null,
   "metadata": {},
   "outputs": [],
   "source": [
    "# call the function sanitize on the dataframe df\n",
    "df_sanitize = sanitize(df)\n",
    "# call the function tweet_analysis on the dataframe df_sanitize\n",
    "tweet_stats_df = tweet_analysis(df_sanitize)\n",
    "tweet_stats_df.head()\n"
   ]
  },
  {
   "cell_type": "code",
   "execution_count": null,
   "metadata": {},
   "outputs": [],
   "source": [
    "df_sanitize.shape"
   ]
  },
  {
   "cell_type": "code",
   "execution_count": null,
   "metadata": {},
   "outputs": [],
   "source": [
    "tweet_stats_df.shape"
   ]
  },
  {
   "cell_type": "code",
   "execution_count": null,
   "metadata": {},
   "outputs": [],
   "source": [
    "tweet_stats_df.columns"
   ]
  },
  {
   "cell_type": "code",
   "execution_count": null,
   "metadata": {},
   "outputs": [],
   "source": [
    "df.info()"
   ]
  },
  {
   "cell_type": "code",
   "execution_count": null,
   "metadata": {},
   "outputs": [],
   "source": []
  }
 ],
 "metadata": {
  "kernelspec": {
   "display_name": "twitter",
   "language": "python",
   "name": "python3"
  },
  "language_info": {
   "codemirror_mode": {
    "name": "ipython",
    "version": 3
   },
   "file_extension": ".py",
   "mimetype": "text/x-python",
   "name": "python",
   "nbconvert_exporter": "python",
   "pygments_lexer": "ipython3",
   "version": "3.10.9 (main, Mar  8 2023, 04:44:36) [Clang 14.0.6 ]"
  },
  "orig_nbformat": 4,
  "vscode": {
   "interpreter": {
    "hash": "c5cf37f2ecd97af072a1725645efaadf36992b9e61077726ff57f1be9c5d9106"
   }
  }
 },
 "nbformat": 4,
 "nbformat_minor": 2
}
