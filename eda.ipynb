{
 "cells": [
  {
   "cell_type": "code",
   "execution_count": null,
   "metadata": {},
   "outputs": [],
   "source": [
    "%run wrangling.ipynb"
   ]
  },
  {
   "cell_type": "code",
   "execution_count": null,
   "metadata": {},
   "outputs": [],
   "source": [
    "\n",
    "import pandas as pd\n",
    "tweet_stats_df: pd.DataFrame "
   ]
  },
  {
   "attachments": {},
   "cell_type": "markdown",
   "metadata": {},
   "source": [
    "`Correlation between all columns of the df`"
   ]
  },
  {
   "cell_type": "code",
   "execution_count": null,
   "metadata": {},
   "outputs": [],
   "source": [
    "%who DataFrame"
   ]
  },
  {
   "cell_type": "code",
   "execution_count": null,
   "metadata": {},
   "outputs": [],
   "source": [
    "tweet_stats_df.info()"
   ]
  },
  {
   "cell_type": "code",
   "execution_count": null,
   "metadata": {},
   "outputs": [],
   "source": [
    "#Find correlation between columns of tweet_stats_df only if the column is numeric\n",
    "tweet_stats_df.corr().style.background_gradient(cmap='RdBu', vmin = -1)"
   ]
  },
  {
   "cell_type": "code",
   "execution_count": null,
   "metadata": {},
   "outputs": [],
   "source": [
    "tweet_stats_df.plot.scatter(x= \"impressions\", y= \"engagements\", c= \"green\", alpha = 0.5)"
   ]
  },
  {
   "cell_type": "code",
   "execution_count": null,
   "metadata": {},
   "outputs": [],
   "source": [
    "ax = tweet_stats_df.plot.scatter(x= \"impressions\", y= \"engagements\", c= \"green\", alpha = 0.5, figsize = (10, 5), title = \"Impressions vs Engagements\")\n",
    "ax.set_xlim(0, 10000)\n",
    "ax.set_ylim(0, 500)"
   ]
  },
  {
   "cell_type": "code",
   "execution_count": null,
   "metadata": {},
   "outputs": [],
   "source": [
    "tweet_stats_df.query('impressions > 8000').corr().style.background_gradient(cmap='RdBu', vmin = -1)"
   ]
  },
  {
   "cell_type": "code",
   "execution_count": null,
   "metadata": {},
   "outputs": [],
   "source": [
    "# Scatter plot of word length vs impressions\n",
    "ax = tweet_stats_df.plot.scatter(x= \"word_length\", y= \"impressions\", c= \"green\", alpha = 0.5, figsize = (10, 5), title = \"Word Length vs Impressions\")\n",
    "ax.set_xlim(0, 50)\n",
    "ax.set_ylim(0, 10000)"
   ]
  },
  {
   "attachments": {},
   "cell_type": "markdown",
   "metadata": {},
   "source": [
    "It helps to respond on tweets with a large following. How did we arrive to that conclusion based on data? Theoretically, it makes sense."
   ]
  },
  {
   "attachments": {},
   "cell_type": "markdown",
   "metadata": {},
   "source": [
    "Also, consider spearman correlation"
   ]
  },
  {
   "cell_type": "code",
   "execution_count": null,
   "metadata": {},
   "outputs": [],
   "source": [
    "sns.boxplot(x = \"impressions\", y = 'hour', data = tweet_stats_df)"
   ]
  },
  {
   "cell_type": "code",
   "execution_count": null,
   "metadata": {},
   "outputs": [],
   "source": [
    "tweet_stats_df.groupby('hour').mean().plot(kind = 'bar', y = 'impressions', figsize = (10, 5), title = \"Average Impressions by Hour\")"
   ]
  },
  {
   "cell_type": "code",
   "execution_count": null,
   "metadata": {},
   "outputs": [],
   "source": []
  }
 ],
 "metadata": {
  "kernelspec": {
   "display_name": "twitter",
   "language": "python",
   "name": "python3"
  },
  "language_info": {
   "codemirror_mode": {
    "name": "ipython",
    "version": 3
   },
   "file_extension": ".py",
   "mimetype": "text/x-python",
   "name": "python",
   "nbconvert_exporter": "python",
   "pygments_lexer": "ipython3",
   "version": "3.10.0 (default, Mar  3 2022, 03:57:21) [Clang 12.0.0 ]"
  },
  "orig_nbformat": 4,
  "vscode": {
   "interpreter": {
    "hash": "c5cf37f2ecd97af072a1725645efaadf36992b9e61077726ff57f1be9c5d9106"
   }
  }
 },
 "nbformat": 4,
 "nbformat_minor": 2
}
